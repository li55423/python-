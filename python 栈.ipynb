{
 "cells": [
  {
   "cell_type": "code",
   "execution_count": 4,
   "metadata": {},
   "outputs": [
    {
     "name": "stdout",
     "output_type": "stream",
     "text": [
      "0\n",
      "1\n",
      "2\n",
      "3\n",
      "4\n",
      "5\n",
      "6\n",
      "7\n",
      "8\n",
      "9\n",
      "9\n",
      "8\n",
      "7\n",
      "6\n",
      "5\n",
      "4\n",
      "3\n",
      "2\n",
      "1\n",
      "0\n"
     ]
    },
    {
     "ename": "StackException",
     "evalue": "PyStackOverflow",
     "output_type": "error",
     "traceback": [
      "\u001b[1;31m---------------------------------------------------------------------------\u001b[0m",
      "\u001b[1;31mStackException\u001b[0m                            Traceback (most recent call last)",
      "\u001b[1;32m<ipython-input-4-aa040866ff2f>\u001b[0m in \u001b[0;36m<module>\u001b[1;34m()\u001b[0m\n\u001b[0;32m     51\u001b[0m     \u001b[0mstack\u001b[0m\u001b[1;33m.\u001b[0m\u001b[0mempty\u001b[0m\u001b[1;33m(\u001b[0m\u001b[1;33m)\u001b[0m\u001b[1;33m\u001b[0m\u001b[0m\n\u001b[0;32m     52\u001b[0m     \u001b[1;32mfor\u001b[0m \u001b[0mi\u001b[0m \u001b[1;32min\u001b[0m \u001b[0mrange\u001b[0m\u001b[1;33m(\u001b[0m\u001b[1;36m21\u001b[0m\u001b[1;33m)\u001b[0m\u001b[1;33m:\u001b[0m\u001b[1;33m\u001b[0m\u001b[0m\n\u001b[1;32m---> 53\u001b[1;33m         \u001b[0mstack\u001b[0m\u001b[1;33m.\u001b[0m\u001b[0mpush\u001b[0m\u001b[1;33m(\u001b[0m\u001b[0mi\u001b[0m\u001b[1;33m)\u001b[0m\u001b[1;33m\u001b[0m\u001b[0m\n\u001b[0m",
      "\u001b[1;32m<ipython-input-4-aa040866ff2f>\u001b[0m in \u001b[0;36mpush\u001b[1;34m(self, element)\u001b[0m\n\u001b[0;32m      8\u001b[0m     \u001b[1;32mdef\u001b[0m \u001b[0mpush\u001b[0m\u001b[1;33m(\u001b[0m\u001b[0mself\u001b[0m\u001b[1;33m,\u001b[0m \u001b[0melement\u001b[0m\u001b[1;33m)\u001b[0m\u001b[1;33m:\u001b[0m\u001b[1;33m\u001b[0m\u001b[0m\n\u001b[0;32m      9\u001b[0m         \u001b[1;32mif\u001b[0m \u001b[0mself\u001b[0m\u001b[1;33m.\u001b[0m\u001b[0misFull\u001b[0m\u001b[1;33m(\u001b[0m\u001b[1;33m)\u001b[0m\u001b[1;33m:\u001b[0m\u001b[1;33m\u001b[0m\u001b[0m\n\u001b[1;32m---> 10\u001b[1;33m             \u001b[1;32mraise\u001b[0m \u001b[0mStackException\u001b[0m\u001b[1;33m(\u001b[0m\u001b[1;34m'PyStackOverflow'\u001b[0m\u001b[1;33m)\u001b[0m\u001b[1;33m\u001b[0m\u001b[0m\n\u001b[0m\u001b[0;32m     11\u001b[0m         \u001b[1;32melse\u001b[0m\u001b[1;33m:\u001b[0m\u001b[1;33m\u001b[0m\u001b[0m\n\u001b[0;32m     12\u001b[0m             \u001b[0mself\u001b[0m\u001b[1;33m.\u001b[0m\u001b[0mstack\u001b[0m\u001b[1;33m.\u001b[0m\u001b[0mappend\u001b[0m\u001b[1;33m(\u001b[0m\u001b[0melement\u001b[0m\u001b[1;33m)\u001b[0m\u001b[1;33m\u001b[0m\u001b[0m\n",
      "\u001b[1;31mStackException\u001b[0m: PyStackOverflow"
     ]
    }
   ],
   "source": [
    "class PyStack:\n",
    "    def __init__(self, size = 20):\n",
    "        self.stack = []\n",
    "        self.size = size\n",
    "        self.top = -1\n",
    "    def setSize(self, size):\n",
    "        self.size = size\n",
    "    def push(self, element):\n",
    "        if self.isFull():\n",
    "            raise StackException('PyStackOverflow')\n",
    "        else:\n",
    "            self.stack.append(element)\n",
    "            self.top = self.top+1\n",
    "    def pop(self):\n",
    "        if self.isEmpty():\n",
    "            raise StackException('PystackUnderflow')\n",
    "        else:\n",
    "            element = self.stack[-1]\n",
    "            self.top = self.top - 1\n",
    "            del self.stack[-1]\n",
    "            return element\n",
    "    def Top(self):\n",
    "        return self.top\n",
    "    def empty(self):\n",
    "        self.stack = []\n",
    "        self.top = -1\n",
    "    def isEmpty(self):\n",
    "        if self.top == -1:\n",
    "            return True\n",
    "        else:\n",
    "            return False\n",
    "    def isFull(self):\n",
    "        if self.top == self.size - 1:\n",
    "            return True\n",
    "        else:\n",
    "            return False\n",
    "\n",
    "class StackException(Exception):\n",
    "    def __init__(self, data):\n",
    "        self.data = data\n",
    "    def __str__(self):\n",
    "        return self.data\n",
    "    \n",
    "if __name__ == '__main__':\n",
    "    stack = PyStack()\n",
    "    for i in range(10):\n",
    "        stack.push(i)\n",
    "        print(stack.Top())\n",
    "    for i in range(10):\n",
    "        print(stack.pop())\n",
    "    stack.empty()\n",
    "    for i in range(21):\n",
    "        stack.push(i)"
   ]
  },
  {
   "cell_type": "code",
   "execution_count": null,
   "metadata": {},
   "outputs": [],
   "source": []
  }
 ],
 "metadata": {
  "kernelspec": {
   "display_name": "Python 3",
   "language": "python",
   "name": "python3"
  },
  "language_info": {
   "codemirror_mode": {
    "name": "ipython",
    "version": 3
   },
   "file_extension": ".py",
   "mimetype": "text/x-python",
   "name": "python",
   "nbconvert_exporter": "python",
   "pygments_lexer": "ipython3",
   "version": "3.6.5"
  }
 },
 "nbformat": 4,
 "nbformat_minor": 2
}
